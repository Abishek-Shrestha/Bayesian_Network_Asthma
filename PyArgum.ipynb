{
 "cells": [
  {
   "cell_type": "markdown",
   "id": "db24ef1c-7009-440f-8f31-651460c1d6af",
   "metadata": {},
   "source": [
    "## PyArgum "
   ]
  },
  {
   "cell_type": "markdown",
   "id": "b5a4ef5b-bbf7-4404-8708-395bb7d33ef8",
   "metadata": {},
   "source": [
    "pyAgrum is a scientific C++ and Python library dedicated to Bayesian networks (BN) and other Probabilistic Graphical Models. Based on the C++ aGrUM library, it provides a high-level interface to the C++ part of aGrUM allowing to create, manage and perform efficient computations with Bayesian networks and others probabilistic graphical models : Markov random fields (MRF), influence diagrams (ID) and LIMIDs, credal networks (CN), dynamic BN (dBN), probabilistic relational models (PRM). \n",
    "\n",
    "References: https://pyagrum.readthedocs.io/en/1.17.2/"
   ]
  },
  {
   "cell_type": "markdown",
   "id": "4b4885ba-ed88-4f89-95b8-7a080f615d63",
   "metadata": {},
   "source": [
    "## Requirement installation "
   ]
  },
  {
   "cell_type": "code",
   "execution_count": 1,
   "id": "f6a7d324-c327-414f-a5ad-42fb79ab9fa5",
   "metadata": {},
   "outputs": [
    {
     "name": "stdout",
     "output_type": "stream",
     "text": [
      "\u001b[31mERROR: Could not find a version that satisfies the requirement pyArgum (from versions: none)\u001b[0m\u001b[31m\n",
      "\u001b[0m\u001b[31mERROR: No matching distribution found for pyArgum\u001b[0m\u001b[31m\n",
      "\u001b[0m\n",
      "\u001b[1m[\u001b[0m\u001b[34;49mnotice\u001b[0m\u001b[1;39;49m]\u001b[0m\u001b[39;49m A new release of pip is available: \u001b[0m\u001b[31;49m23.0.1\u001b[0m\u001b[39;49m -> \u001b[0m\u001b[32;49m25.0.1\u001b[0m\n",
      "\u001b[1m[\u001b[0m\u001b[34;49mnotice\u001b[0m\u001b[1;39;49m]\u001b[0m\u001b[39;49m To update, run: \u001b[0m\u001b[32;49mpip install --upgrade pip\u001b[0m\n",
      "Note: you may need to restart the kernel to use updated packages.\n"
     ]
    }
   ],
   "source": [
    "pip install pyArgum"
   ]
  },
  {
   "cell_type": "code",
   "execution_count": 2,
   "id": "03259e0f-ca72-4ba2-944a-c82bc389375f",
   "metadata": {},
   "outputs": [
    {
     "name": "stdout",
     "output_type": "stream",
     "text": [
      "Requirement already satisfied: pandas in /Users/abishekshrestha/Documents/anaconda3/lib/python3.11/site-packages (2.2.1)\n",
      "Requirement already satisfied: openpyxl in /Users/abishekshrestha/Documents/anaconda3/lib/python3.11/site-packages (3.1.2)\n",
      "Requirement already satisfied: numpy<2,>=1.23.2 in /Users/abishekshrestha/Documents/anaconda3/lib/python3.11/site-packages (from pandas) (1.26.3)\n",
      "Requirement already satisfied: python-dateutil>=2.8.2 in /Users/abishekshrestha/Documents/anaconda3/lib/python3.11/site-packages (from pandas) (2.8.2)\n",
      "Requirement already satisfied: pytz>=2020.1 in /Users/abishekshrestha/Documents/anaconda3/lib/python3.11/site-packages (from pandas) (2024.1)\n",
      "Requirement already satisfied: tzdata>=2022.7 in /Users/abishekshrestha/Documents/anaconda3/lib/python3.11/site-packages (from pandas) (2023.3)\n",
      "Requirement already satisfied: et-xmlfile in /Users/abishekshrestha/Documents/anaconda3/lib/python3.11/site-packages (from openpyxl) (1.1.0)\n",
      "Requirement already satisfied: six>=1.5 in /Users/abishekshrestha/Documents/anaconda3/lib/python3.11/site-packages (from python-dateutil>=2.8.2->pandas) (1.16.0)\n",
      "\n",
      "\u001b[1m[\u001b[0m\u001b[34;49mnotice\u001b[0m\u001b[1;39;49m]\u001b[0m\u001b[39;49m A new release of pip is available: \u001b[0m\u001b[31;49m23.0.1\u001b[0m\u001b[39;49m -> \u001b[0m\u001b[32;49m25.0.1\u001b[0m\n",
      "\u001b[1m[\u001b[0m\u001b[34;49mnotice\u001b[0m\u001b[1;39;49m]\u001b[0m\u001b[39;49m To update, run: \u001b[0m\u001b[32;49mpip install --upgrade pip\u001b[0m\n",
      "Note: you may need to restart the kernel to use updated packages.\n"
     ]
    }
   ],
   "source": [
    "pip install pandas openpyxl"
   ]
  },
  {
   "cell_type": "markdown",
   "id": "ee26b55f-2ecd-4bd4-a6e8-08bae701bb3c",
   "metadata": {},
   "source": [
    "## Importing Libraries"
   ]
  },
  {
   "cell_type": "code",
   "execution_count": 3,
   "id": "8471e025-e35d-4581-bb27-6b448f81da98",
   "metadata": {},
   "outputs": [],
   "source": [
    "import matplotlib.pyplot as plt\n",
    "\n",
    "# import the computation tools of aGrUM\n",
    "import pyAgrum as gum\n",
    "\n",
    "# import the graphical display functions\n",
    "import pyAgrum.lib.notebook as gnb\n"
   ]
  },
  {
   "cell_type": "markdown",
   "id": "235ce101-99bc-4f94-b7c9-a78885d7f1c3",
   "metadata": {},
   "source": [
    "## Step1: Load the Excel Dataset in Python"
   ]
  },
  {
   "cell_type": "code",
   "execution_count": 4,
   "id": "05df5235-b13c-43d6-9f21-7bafa77d7626",
   "metadata": {},
   "outputs": [
    {
     "name": "stdout",
     "output_type": "stream",
     "text": [
      "       ID  ID.1             Name              Location Temparature  Humidity   \\\n",
      "0   77516  2101  Patrick Mahomes     Chisinau, Moldova         5°C       0.15   \n",
      "1   83311  2102   Julian Edelman     Glasgow, Scotland        25°C       0.80   \n",
      "2  215646  2103       Nick Foles     Chisinau, Moldova        10°C       0.12   \n",
      "3  234721  2104        Tom Brady     Chicago, Illinois        12°C       0.10   \n",
      "4  338409  2105       Von Miller  Salt Lake City, Utah        13°C       0.09   \n",
      "\n",
      "  Air Freshness                Date       Time  \n",
      "0          Good  2010-07-01 00:00:00  05:07:00  \n",
      "1         Fresh  2010-07-02 00:00:00  21:10:00  \n",
      "2         Fresh  2010-07-06 00:00:00  08:12:00  \n",
      "3         Fresh  2018-09-05 00:00:00  09:56:00  \n",
      "4          Good           16/12/2017  09:55:00  \n"
     ]
    }
   ],
   "source": [
    "import pandas as pd\n",
    "\n",
    "# Load the dataset\n",
    "file_path = \"asthama.xlsx\"  # Replace with your actual file path\n",
    "data = pd.read_excel(file_path, engine=\"openpyxl\")\n",
    "\n",
    "# Display the first few rows\n",
    "print(data.head())"
   ]
  },
  {
   "cell_type": "markdown",
   "id": "59f481ab-65f4-49be-8449-9a0b99b2f44f",
   "metadata": {},
   "source": [
    "The column name has spaces or incorrect formatting, renaming in proper date and time"
   ]
  },
  {
   "cell_type": "code",
   "execution_count": 5,
   "id": "6b2aaf67-1282-461d-ad8f-cf081e1f047c",
   "metadata": {},
   "outputs": [
    {
     "name": "stdout",
     "output_type": "stream",
     "text": [
      "Index(['ID', 'ID.1', 'Name', 'Location', 'Temparature', 'Humidity',\n",
      "       'Air Freshness', 'Date', 'Time'],\n",
      "      dtype='object')\n"
     ]
    }
   ],
   "source": [
    "data.columns = data.columns.str.strip()  # Remove spaces from column names\n",
    "\n",
    "# Rename the Date column if needed\n",
    "data.rename(columns={' date': 'Date', 'DATE': 'Date'}, inplace=True)\n",
    "\n",
    "print(data.columns)  # Check again\n"
   ]
  },
  {
   "cell_type": "markdown",
   "id": "6ded3a09-49a2-4160-ab1b-e0996faee19a",
   "metadata": {},
   "source": [
    "## Step2: Preprocess the Dta"
   ]
  },
  {
   "cell_type": "markdown",
   "id": "5a680940-9ebd-4892-af11-a2d98912a6d9",
   "metadata": {},
   "source": [
    "While loading Excel dataset, checking if any columns contain datetime values that might be causing issues when learning the Bayesian Network. Before prerpocessing the data converting them to timedelta or categorical values:"
   ]
  },
  {
   "cell_type": "code",
   "execution_count": 6,
   "id": "3bec7086-d25e-4c79-8219-61c5b4973d94",
   "metadata": {},
   "outputs": [
    {
     "name": "stdout",
     "output_type": "stream",
     "text": [
      "        Date      Time\n",
      "0 2010-07-01  05:07:00\n",
      "1 2010-07-02  21:10:00\n",
      "2 2010-07-06  08:12:00\n",
      "3 2018-09-05  09:56:00\n",
      "4 2017-12-16  09:55:00\n"
     ]
    }
   ],
   "source": [
    "# Before preprocess fixing the date and time \n",
    "# Convert 'Date' column to a standard format\n",
    "data['Date'] = pd.to_datetime(data['Date'], errors='coerce', dayfirst=True)  # Auto-fix different formats\n",
    "\n",
    "# Convert 'Time' column to standard time format\n",
    "data['Time'] = pd.to_datetime(data['Time'], format='%H:%M:%S', errors='coerce').dt.time\n",
    "\n",
    "\n",
    "# If 'Time' column is in string format and handle missing values\n",
    "data['Time'] = data['Time'].astype(str).fillna('00:00:00')\n",
    "\n",
    "print(data[['Date', 'Time']].head())"
   ]
  },
  {
   "cell_type": "code",
   "execution_count": 7,
   "id": "8a49d48d-357c-4949-86ef-0a3473ff1dc7",
   "metadata": {},
   "outputs": [
    {
     "name": "stdout",
     "output_type": "stream",
     "text": [
      "       ID  ID.1             Name              Location Temparature  Humidity  \\\n",
      "0   77516  2101  Patrick Mahomes     Chisinau, Moldova         5°C      0.15   \n",
      "1   83311  2102   Julian Edelman     Glasgow, Scotland        25°C      0.80   \n",
      "2  215646  2103       Nick Foles     Chisinau, Moldova        10°C      0.12   \n",
      "3  234721  2104        Tom Brady     Chicago, Illinois        12°C      0.10   \n",
      "4  338409  2105       Von Miller  Salt Lake City, Utah        13°C      0.09   \n",
      "\n",
      "  Air Freshness       Date      Time  \n",
      "0          Good 2010-07-01  05:07:00  \n",
      "1         Fresh 2010-07-02  21:10:00  \n",
      "2         Fresh 2010-07-06  08:12:00  \n",
      "3         Fresh 2018-09-05  09:56:00  \n",
      "4          Good 2017-12-16  09:55:00  \n",
      "<class 'pandas.core.frame.DataFrame'>\n",
      "RangeIndex: 500 entries, 0 to 499\n",
      "Data columns (total 9 columns):\n",
      " #   Column         Non-Null Count  Dtype         \n",
      "---  ------         --------------  -----         \n",
      " 0   ID             500 non-null    int64         \n",
      " 1   ID.1           500 non-null    int64         \n",
      " 2   Name           500 non-null    object        \n",
      " 3   Location       500 non-null    object        \n",
      " 4   Temparature    500 non-null    object        \n",
      " 5   Humidity       500 non-null    float64       \n",
      " 6   Air Freshness  500 non-null    object        \n",
      " 7   Date           494 non-null    datetime64[ns]\n",
      " 8   Time           500 non-null    object        \n",
      "dtypes: datetime64[ns](1), float64(1), int64(2), object(5)\n",
      "memory usage: 35.3+ KB\n",
      "None\n"
     ]
    }
   ],
   "source": [
    "#Verify If \"Date\" is Loaded Properly\n",
    "\n",
    "print(data.head())  # See the first few rows\n",
    "print(data.info())  # Check column data types"
   ]
  },
  {
   "cell_type": "code",
   "execution_count": 8,
   "id": "97dc8cb8-401d-4e0e-a741-52b5ca986f33",
   "metadata": {},
   "outputs": [
    {
     "name": "stdout",
     "output_type": "stream",
     "text": [
      "             Datetime\n",
      "0 2010-07-01 05:07:00\n",
      "1 2010-07-02 21:10:00\n",
      "2 2010-07-06 08:12:00\n",
      "3 2018-09-05 09:56:00\n",
      "4 2017-12-16 09:55:00\n"
     ]
    }
   ],
   "source": [
    "#Now, let’s combine the Date & Time into a single datetime column.\n",
    "\n",
    "# Merge Date and Time into a single datetime column\n",
    "data['Datetime'] = pd.to_datetime(data['Date'].astype(str) + ' ' + data['Time'].astype(str), errors='coerce')\n",
    "\n",
    "# Drop the old columns\n",
    "data.drop(columns=['Date', 'Time'], inplace=True)\n",
    "\n",
    "print(data[['Datetime']].head())\n"
   ]
  },
  {
   "cell_type": "markdown",
   "id": "9f1f86f4-75b2-431b-876f-77a070963249",
   "metadata": {},
   "source": [
    "*** Extract Useful Features from Datetime\n",
    "Since pyAgrum doesn't work with datetime, we extract useful categorical features:\n",
    "\n",
    "Hour of the Day (Morning, Afternoon, Evening, Night)\n",
    "Day of the Week (Monday, Tuesday, etc.)\n",
    "Month of the Year\n",
    "Is Weekend? (Yes/No)"
   ]
  },
  {
   "cell_type": "code",
   "execution_count": 9,
   "id": "384192a5-c10e-418e-8e54-03ec089e4c31",
   "metadata": {},
   "outputs": [
    {
     "name": "stdout",
     "output_type": "stream",
     "text": [
      "   Hour  DayOfWeek  Month  IsWeekend TimeCategory\n",
      "0   5.0   Thursday    7.0      False        Night\n",
      "1  21.0     Friday    7.0      False      Evening\n",
      "2   8.0    Tuesday    7.0      False      Morning\n",
      "3   9.0  Wednesday    9.0      False      Morning\n",
      "4   9.0   Saturday   12.0       True      Morning\n"
     ]
    }
   ],
   "source": [
    "# Extract features from Datetime\n",
    "data['Hour'] = data['Datetime'].dt.hour\n",
    "data['DayOfWeek'] = data['Datetime'].dt.day_name()\n",
    "data['Month'] = data['Datetime'].dt.month\n",
    "data['IsWeekend'] = data['Datetime'].dt.weekday >= 5  # True if Sat/Sun\n",
    "\n",
    "# Map hours to part of the day\n",
    "data['TimeCategory'] = pd.cut(data['Hour'], bins=[0, 6, 12, 18, 24], labels=[\"Night\", \"Morning\", \"Afternoon\", \"Evening\"])\n",
    "\n",
    "print(data[['Hour', 'DayOfWeek', 'Month', 'IsWeekend', 'TimeCategory']].head())\n"
   ]
  },
  {
   "cell_type": "markdown",
   "id": "bbcc74bd-fd75-4519-b008-924997f5766f",
   "metadata": {},
   "source": [
    "*** Since pyAgrum works with numbers, we need to convert Location, Air Freshness, DayOfWeek, etc., into numerical values."
   ]
  },
  {
   "cell_type": "code",
   "execution_count": 10,
   "id": "32f7b387-6852-40b8-81a4-c16df7b5352b",
   "metadata": {},
   "outputs": [
    {
     "name": "stdout",
     "output_type": "stream",
     "text": [
      "       ID  ID.1             Name  Location Temparature  Humidity  \\\n",
      "0   77516  2101  Patrick Mahomes        31         5°C      0.15   \n",
      "1   83311  2102   Julian Edelman        61        25°C      0.80   \n",
      "2  215646  2103       Nick Foles        31        10°C      0.12   \n",
      "3  234721  2104        Tom Brady        29        12°C      0.10   \n",
      "4  338409  2105       Von Miller       172        13°C      0.09   \n",
      "\n",
      "   Air Freshness            Datetime  Hour  DayOfWeek  Month  IsWeekend  \\\n",
      "0              2 2010-07-01 05:07:00   5.0          4    7.0      False   \n",
      "1              1 2010-07-02 21:10:00  21.0          0    7.0      False   \n",
      "2              1 2010-07-06 08:12:00   8.0          5    7.0      False   \n",
      "3              1 2018-09-05 09:56:00   9.0          6    9.0      False   \n",
      "4              2 2017-12-16 09:55:00   9.0          2   12.0       True   \n",
      "\n",
      "   TimeCategory  \n",
      "0             3  \n",
      "1             1  \n",
      "2             2  \n",
      "3             2  \n",
      "4             2  \n"
     ]
    }
   ],
   "source": [
    "from sklearn.preprocessing import LabelEncoder\n",
    "\n",
    "# Encode categorical variables\n",
    "label_encoder = LabelEncoder()\n",
    "data['Location'] = label_encoder.fit_transform(data['Location'])\n",
    "data['Air Freshness'] = label_encoder.fit_transform(data['Air Freshness'])\n",
    "data['DayOfWeek'] = label_encoder.fit_transform(data['DayOfWeek'])\n",
    "data['TimeCategory'] = label_encoder.fit_transform(data['TimeCategory'])\n",
    "\n",
    "print(data.head())\n"
   ]
  },
  {
   "cell_type": "markdown",
   "id": "55f92c3f-dc36-4b3a-8c4c-6cbce4415e74",
   "metadata": {},
   "source": [
    "## Normalize Temperature & Humidity\n",
    "\n",
    "Temperature column has values like \"5°C\", which need to be converted to numbers."
   ]
  },
  {
   "cell_type": "code",
   "execution_count": 11,
   "id": "cc915788-097d-44a1-9842-1e007959d18a",
   "metadata": {},
   "outputs": [],
   "source": [
    "data.columns = data.columns.str.strip()  # Remove spaces\n",
    "data.rename(columns={'Temparature': 'Temperature'}, inplace=True)  # Fix spelling"
   ]
  },
  {
   "cell_type": "code",
   "execution_count": 12,
   "id": "3837f5f2-7195-46e5-a85e-0ab4f2b130c2",
   "metadata": {},
   "outputs": [
    {
     "name": "stdout",
     "output_type": "stream",
     "text": [
      "       ID  ID.1             Name  Location  Temperature  Humidity  \\\n",
      "0   77516  2101  Patrick Mahomes        31     0.000000  0.141414   \n",
      "1   83311  2102   Julian Edelman        61     0.571429  0.797980   \n",
      "2  215646  2103       Nick Foles        31     0.142857  0.111111   \n",
      "3  234721  2104        Tom Brady        29     0.200000  0.090909   \n",
      "4  338409  2105       Von Miller       172     0.228571  0.080808   \n",
      "\n",
      "   Air Freshness            Datetime  Hour  DayOfWeek  Month  IsWeekend  \\\n",
      "0              2 2010-07-01 05:07:00   5.0          4    7.0      False   \n",
      "1              1 2010-07-02 21:10:00  21.0          0    7.0      False   \n",
      "2              1 2010-07-06 08:12:00   8.0          5    7.0      False   \n",
      "3              1 2018-09-05 09:56:00   9.0          6    9.0      False   \n",
      "4              2 2017-12-16 09:55:00   9.0          2   12.0       True   \n",
      "\n",
      "   TimeCategory  \n",
      "0             3  \n",
      "1             1  \n",
      "2             2  \n",
      "3             2  \n",
      "4             2  \n"
     ]
    }
   ],
   "source": [
    "# Remove '°C' and convert to float\n",
    "data['Temperature'] = data['Temperature'].str.replace('°C', '').astype(float)\n",
    "\n",
    "# Normalize numerical columns\n",
    "from sklearn.preprocessing import MinMaxScaler\n",
    "\n",
    "scaler = MinMaxScaler()\n",
    "data[['Temperature', 'Humidity']] = scaler.fit_transform(data[['Temperature', 'Humidity']])\n",
    "\n",
    "print(data.head())\n"
   ]
  },
  {
   "cell_type": "markdown",
   "id": "8c26a219-f179-4747-8880-8d87e893f5fc",
   "metadata": {},
   "source": [
    "Now, let’s drop irrelevant columns like ID, Name, and Datetime (since we've extracted features from it)."
   ]
  },
  {
   "cell_type": "code",
   "execution_count": 13,
   "id": "0ed8bbd2-4c71-4a4b-96ab-0d6b8e1a10e0",
   "metadata": {},
   "outputs": [
    {
     "name": "stdout",
     "output_type": "stream",
     "text": [
      "   Location  Temperature  Humidity  Air Freshness  Hour  DayOfWeek  Month  \\\n",
      "0        31     0.000000  0.141414              2   5.0          4    7.0   \n",
      "1        61     0.571429  0.797980              1  21.0          0    7.0   \n",
      "2        31     0.142857  0.111111              1   8.0          5    7.0   \n",
      "3        29     0.200000  0.090909              1   9.0          6    9.0   \n",
      "4       172     0.228571  0.080808              2   9.0          2   12.0   \n",
      "\n",
      "   IsWeekend  TimeCategory  \n",
      "0      False             3  \n",
      "1      False             1  \n",
      "2      False             2  \n",
      "3      False             2  \n",
      "4       True             2  \n"
     ]
    }
   ],
   "source": [
    "data.drop(columns=['ID', 'ID.1', 'Name', 'Datetime'], inplace=True)\n",
    "\n",
    "print(data.head())\n"
   ]
  },
  {
   "cell_type": "markdown",
   "id": "a09819a3-7a85-4e2e-85eb-b95742df5d2d",
   "metadata": {},
   "source": [
    "## Convert Data to pyAgrum-Compatible Format\n"
   ]
  },
  {
   "cell_type": "code",
   "execution_count": 14,
   "id": "0f7cd826-83fb-4b7e-80b4-2b50c285c461",
   "metadata": {},
   "outputs": [],
   "source": [
    "data_numpy = data.to_numpy()\n"
   ]
  },
  {
   "cell_type": "markdown",
   "id": "8a3a2a34-de56-4021-a671-715d025321d7",
   "metadata": {},
   "source": [
    "## Build Bayesian Network with pyAgrum"
   ]
  },
  {
   "cell_type": "code",
   "execution_count": 15,
   "id": "280aa474-3e2f-4d9e-a85c-0617c7b88b51",
   "metadata": {},
   "outputs": [
    {
     "name": "stdout",
     "output_type": "stream",
     "text": [
      "  Location Temperature  Humidity Air Freshness  Hour DayOfWeek Month  \\\n",
      "0       31         0.0  0.141414             2   5.0         4   7.0   \n",
      "1       61    0.571429   0.79798             1  21.0         0   7.0   \n",
      "2       31    0.142857  0.111111             1   8.0         5   7.0   \n",
      "3       29         0.2  0.090909             1   9.0         6   9.0   \n",
      "4      172    0.228571  0.080808             2   9.0         2  12.0   \n",
      "\n",
      "  IsWeekend TimeCategory  \n",
      "0     False            3  \n",
      "1     False            1  \n",
      "2     False            2  \n",
      "3     False            2  \n",
      "4      True            2  \n"
     ]
    }
   ],
   "source": [
    "import pandas as pd\n",
    "\n",
    "# Define column names (update these based on your dataset)\n",
    "column_names = [\"Location\", \"Temperature\", \"Humidity\", \"Air Freshness\", \"Hour\", \"DayOfWeek\", \"Month\", \"IsWeekend\", \"TimeCategory\"]\n",
    "\n",
    "# Convert NumPy array to DataFrame\n",
    "data_df = pd.DataFrame(data_numpy, columns=column_names)\n",
    "\n",
    "# Check the DataFrame\n",
    "print(data_df.head())\n"
   ]
  },
  {
   "cell_type": "code",
   "execution_count": 16,
   "id": "b1422b74-7862-4b70-af0a-70eac5bb8899",
   "metadata": {},
   "outputs": [
    {
     "name": "stderr",
     "output_type": "stream",
     "text": [
      "/var/folders/13/vfvs2bkn5wj31xbp8hlphjh80000gn/T/ipykernel_43199/1005340728.py:2: FutureWarning: Downcasting object dtype arrays on .fillna, .ffill, .bfill is deprecated and will change in a future version. Call result.infer_objects(copy=False) instead. To opt-in to the future behavior, set `pd.set_option('future.no_silent_downcasting', True)`\n",
      "  data_df['Temperature'] = data_df['Temperature'].fillna(data_df['Temperature'].mean())\n",
      "/var/folders/13/vfvs2bkn5wj31xbp8hlphjh80000gn/T/ipykernel_43199/1005340728.py:3: FutureWarning: Downcasting object dtype arrays on .fillna, .ffill, .bfill is deprecated and will change in a future version. Call result.infer_objects(copy=False) instead. To opt-in to the future behavior, set `pd.set_option('future.no_silent_downcasting', True)`\n",
      "  data_df['Humidity'] = data_df['Humidity'].fillna(data_df['Humidity'].mean())\n",
      "/var/folders/13/vfvs2bkn5wj31xbp8hlphjh80000gn/T/ipykernel_43199/1005340728.py:6: FutureWarning: Downcasting object dtype arrays on .fillna, .ffill, .bfill is deprecated and will change in a future version. Call result.infer_objects(copy=False) instead. To opt-in to the future behavior, set `pd.set_option('future.no_silent_downcasting', True)`\n",
      "  data_df['Location'] = data_df['Location'].fillna(data_df['Location'].mode()[0])\n",
      "/var/folders/13/vfvs2bkn5wj31xbp8hlphjh80000gn/T/ipykernel_43199/1005340728.py:7: FutureWarning: Downcasting object dtype arrays on .fillna, .ffill, .bfill is deprecated and will change in a future version. Call result.infer_objects(copy=False) instead. To opt-in to the future behavior, set `pd.set_option('future.no_silent_downcasting', True)`\n",
      "  data_df['Air Freshness'] = data_df['Air Freshness'].fillna(data_df['Air Freshness'].mode()[0])\n"
     ]
    }
   ],
   "source": [
    "# Fill missing numerical values with mean\n",
    "data_df['Temperature'] = data_df['Temperature'].fillna(data_df['Temperature'].mean())\n",
    "data_df['Humidity'] = data_df['Humidity'].fillna(data_df['Humidity'].mean())\n",
    "\n",
    "# Fill missing categorical values with mode (most common value)\n",
    "data_df['Location'] = data_df['Location'].fillna(data_df['Location'].mode()[0])\n",
    "data_df['Air Freshness'] = data_df['Air Freshness'].fillna(data_df['Air Freshness'].mode()[0])\n"
   ]
  },
  {
   "cell_type": "code",
   "execution_count": 17,
   "id": "75b89705-4c74-44b0-8984-c5e0dc53a6d4",
   "metadata": {},
   "outputs": [
    {
     "name": "stdout",
     "output_type": "stream",
     "text": [
      "Location         0\n",
      "Temperature      0\n",
      "Humidity         0\n",
      "Air Freshness    0\n",
      "Hour             6\n",
      "DayOfWeek        0\n",
      "Month            6\n",
      "IsWeekend        0\n",
      "TimeCategory     0\n",
      "dtype: int64\n"
     ]
    }
   ],
   "source": [
    "print(data_df.isnull().sum())  # Check for missing values\n"
   ]
  },
  {
   "cell_type": "code",
   "execution_count": 22,
   "id": "9f8fec51-4033-43d8-bad3-ff6849ee4c84",
   "metadata": {},
   "outputs": [],
   "source": [
    "data_df.dropna(inplace=True)"
   ]
  },
  {
   "cell_type": "code",
   "execution_count": 23,
   "id": "554340cb-7c3c-4d65-88ff-fcff0f0b88af",
   "metadata": {},
   "outputs": [
    {
     "name": "stdout",
     "output_type": "stream",
     "text": [
      "Location         0\n",
      "Temperature      0\n",
      "Humidity         0\n",
      "Air Freshness    0\n",
      "Hour             0\n",
      "DayOfWeek        0\n",
      "Month            0\n",
      "IsWeekend        0\n",
      "TimeCategory     0\n",
      "dtype: int64\n"
     ]
    }
   ],
   "source": [
    "print(data_df.isnull().sum()) "
   ]
  },
  {
   "cell_type": "code",
   "execution_count": 24,
   "id": "be2ba09f-8531-4b50-9853-6d0d9b2e1994",
   "metadata": {},
   "outputs": [
    {
     "name": "stdout",
     "output_type": "stream",
     "text": [
      "   Location  Temperature  Humidity  Air Freshness  Hour DayOfWeek Month  \\\n",
      "0        31            0  0.141414              2   5.0         4   7.0   \n",
      "1        61            2  0.797980              1  21.0         0   7.0   \n",
      "2        31            0  0.111111              1   8.0         5   7.0   \n",
      "3        29            0  0.090909              1   9.0         6   9.0   \n",
      "4       172            0  0.080808              2   9.0         2  12.0   \n",
      "\n",
      "  IsWeekend TimeCategory  \n",
      "0     False            3  \n",
      "1     False            1  \n",
      "2     False            2  \n",
      "3     False            2  \n",
      "4      True            2  \n"
     ]
    }
   ],
   "source": [
    "print(data_df.head())"
   ]
  },
  {
   "cell_type": "code",
   "execution_count": 25,
   "id": "781881bc-8855-4139-8779-e4655928f6d5",
   "metadata": {},
   "outputs": [
    {
     "name": "stderr",
     "output_type": "stream",
     "text": [
      "/Users/abishekshrestha/Documents/anaconda3/lib/python3.11/site-packages/sklearn/preprocessing/_discretization.py:248: FutureWarning: In version 1.5 onwards, subsample=200_000 will be used by default. Set subsample explicitly to silence this warning in the mean time. Set subsample=None to disable subsampling explicitly.\n",
      "  warnings.warn(\n"
     ]
    }
   ],
   "source": [
    "from sklearn.preprocessing import KBinsDiscretizer\n",
    "\n",
    "# Apply discretization (equal-width bins)\n",
    "discretizer = KBinsDiscretizer(n_bins=4, encode='ordinal', strategy='uniform')\n",
    "data_df[\"Temperature\"] = discretizer.fit_transform(data_df[[\"Temperature\"]])\n",
    "\n",
    "# Convert to integer\n",
    "data_df[\"Temperature\"] = data_df[\"Temperature\"].astype(int)\n"
   ]
  },
  {
   "cell_type": "code",
   "execution_count": 26,
   "id": "5a013a78-1567-4b7a-bf02-bd37a2ea99d8",
   "metadata": {},
   "outputs": [
    {
     "name": "stderr",
     "output_type": "stream",
     "text": [
      "/Users/abishekshrestha/Documents/anaconda3/lib/python3.11/site-packages/sklearn/preprocessing/_discretization.py:248: FutureWarning: In version 1.5 onwards, subsample=200_000 will be used by default. Set subsample explicitly to silence this warning in the mean time. Set subsample=None to disable subsampling explicitly.\n",
      "  warnings.warn(\n"
     ]
    }
   ],
   "source": [
    "from sklearn.preprocessing import KBinsDiscretizer\n",
    "\n",
    "discretizer = KBinsDiscretizer(n_bins=4, encode='ordinal', strategy='uniform')\n",
    "data_df[\"Hour\"] = discretizer.fit_transform(data_df[[\"Hour\"]])\n",
    "\n",
    "# Convert to integer\n",
    "data_df[\"Hour\"] = data_df[\"Hour\"].astype(int)\n"
   ]
  },
  {
   "cell_type": "code",
   "execution_count": 27,
   "id": "4f03cb27-fb21-4b5b-aad5-0d6518691dcb",
   "metadata": {},
   "outputs": [
    {
     "name": "stderr",
     "output_type": "stream",
     "text": [
      "/Users/abishekshrestha/Documents/anaconda3/lib/python3.11/site-packages/sklearn/preprocessing/_discretization.py:248: FutureWarning: In version 1.5 onwards, subsample=200_000 will be used by default. Set subsample explicitly to silence this warning in the mean time. Set subsample=None to disable subsampling explicitly.\n",
      "  warnings.warn(\n"
     ]
    }
   ],
   "source": [
    "from sklearn.preprocessing import KBinsDiscretizer\n",
    "\n",
    "discretizer = KBinsDiscretizer(n_bins=4, encode='ordinal', strategy='uniform')\n",
    "data_df[\"Humidity\"] = discretizer.fit_transform(data_df[[\"Humidity\"]])\n",
    "\n",
    "# Convert to integer\n",
    "data_df[\"Humidity\"] = data_df[\"Humidity\"].astype(int)\n"
   ]
  },
  {
   "cell_type": "code",
   "execution_count": 28,
   "id": "dab7b1dc-9cf9-472f-b8f7-d7059b11a834",
   "metadata": {},
   "outputs": [
    {
     "name": "stderr",
     "output_type": "stream",
     "text": [
      "/Users/abishekshrestha/Documents/anaconda3/lib/python3.11/site-packages/sklearn/preprocessing/_discretization.py:248: FutureWarning: In version 1.5 onwards, subsample=200_000 will be used by default. Set subsample explicitly to silence this warning in the mean time. Set subsample=None to disable subsampling explicitly.\n",
      "  warnings.warn(\n"
     ]
    }
   ],
   "source": [
    "from sklearn.preprocessing import KBinsDiscretizer\n",
    "\n",
    "discretizer = KBinsDiscretizer(n_bins=4, encode='ordinal', strategy='uniform')\n",
    "data_df[\"Month\"] = discretizer.fit_transform(data_df[[\"Month\"]])\n",
    "\n",
    "# Convert to integer\n",
    "data_df[\"Month\"] = data_df[\"Month\"].astype(int)"
   ]
  },
  {
   "cell_type": "code",
   "execution_count": 38,
   "id": "6b3d6af2-22f5-4c87-9fee-4c39b12aef77",
   "metadata": {},
   "outputs": [],
   "source": [
    "import pyAgrum as gum\n",
    "import pyAgrum.lib.notebook as gnb\n",
    "\n",
    "# Use the DataFrame directly\n",
    "learner = gum.BNLearner(data_df)\n",
    "bn = learner.learnBN()"
   ]
  },
  {
   "cell_type": "code",
   "execution_count": 39,
   "id": "3b83a1b8-4bb6-4541-ab8f-690ee68d64da",
   "metadata": {},
   "outputs": [
    {
     "data": {
      "image/svg+xml": [
       "<svg xmlns=\"http://www.w3.org/2000/svg\" xmlns:xlink=\"http://www.w3.org/1999/xlink\" width=\"360pt\" height=\"117pt\" viewBox=\"0.00 0.00 360.00 117.29\">\n",
       "<g id=\"graph0\" class=\"graph\" transform=\"scale(0.623873 0.623873) rotate(0) translate(4 184)\">\n",
       "<title>G</title>\n",
       "<!-- Air Freshness -->\n",
       "<g id=\"node1\" class=\"node\">\n",
       "<title>Air Freshness</title>\n",
       "<g id=\"a_node1\"><a xlink:title=\"(3) Air Freshness\">\n",
       "<ellipse fill=\"#404040\" stroke=\"#4a4a4a\" cx=\"59.79\" cy=\"-162\" rx=\"59.59\" ry=\"18\"/>\n",
       "<text text-anchor=\"middle\" x=\"59.79\" y=\"-158.3\" font-family=\"Times,serif\" font-size=\"14.00\" fill=\"white\">Air Freshness</text>\n",
       "</a>\n",
       "</g>\n",
       "</g>\n",
       "<!-- Humidity -->\n",
       "<g id=\"node3\" class=\"node\">\n",
       "<title>Humidity</title>\n",
       "<g id=\"a_node3\"><a xlink:title=\"(2) Humidity\">\n",
       "<ellipse fill=\"#404040\" stroke=\"#4a4a4a\" cx=\"59.79\" cy=\"-90\" rx=\"44.69\" ry=\"18\"/>\n",
       "<text text-anchor=\"middle\" x=\"59.79\" y=\"-86.3\" font-family=\"Times,serif\" font-size=\"14.00\" fill=\"white\">Humidity</text>\n",
       "</a>\n",
       "</g>\n",
       "</g>\n",
       "<!-- Air Freshness&#45;&gt;Humidity -->\n",
       "<g id=\"edge4\" class=\"edge\">\n",
       "<title>Air Freshness-&gt;Humidity</title>\n",
       "<g id=\"a_edge4\"><a xlink:title=\"3 → 2\">\n",
       "<path fill=\"none\" stroke=\"#4a4a4a\" d=\"M59.79,-143.7C59.79,-135.98 59.79,-126.71 59.79,-118.11\"/>\n",
       "<polygon fill=\"#4a4a4a\" stroke=\"#4a4a4a\" points=\"63.29,-118.1 59.79,-108.1 56.29,-118.1 63.29,-118.1\"/>\n",
       "</a>\n",
       "</g>\n",
       "</g>\n",
       "<!-- IsWeekend -->\n",
       "<g id=\"node2\" class=\"node\">\n",
       "<title>IsWeekend</title>\n",
       "<g id=\"a_node2\"><a xlink:title=\"(7) IsWeekend\">\n",
       "<ellipse fill=\"#404040\" stroke=\"#4a4a4a\" cx=\"187.79\" cy=\"-162\" rx=\"50.09\" ry=\"18\"/>\n",
       "<text text-anchor=\"middle\" x=\"187.79\" y=\"-158.3\" font-family=\"Times,serif\" font-size=\"14.00\" fill=\"white\">IsWeekend</text>\n",
       "</a>\n",
       "</g>\n",
       "</g>\n",
       "<!-- DayOfWeek -->\n",
       "<g id=\"node7\" class=\"node\">\n",
       "<title>DayOfWeek</title>\n",
       "<g id=\"a_node7\"><a xlink:title=\"(5) DayOfWeek\">\n",
       "<ellipse fill=\"#404040\" stroke=\"#4a4a4a\" cx=\"187.79\" cy=\"-90\" rx=\"55.49\" ry=\"18\"/>\n",
       "<text text-anchor=\"middle\" x=\"187.79\" y=\"-86.3\" font-family=\"Times,serif\" font-size=\"14.00\" fill=\"white\">DayOfWeek</text>\n",
       "</a>\n",
       "</g>\n",
       "</g>\n",
       "<!-- IsWeekend&#45;&gt;DayOfWeek -->\n",
       "<g id=\"edge1\" class=\"edge\">\n",
       "<title>IsWeekend-&gt;DayOfWeek</title>\n",
       "<g id=\"a_edge1\"><a xlink:title=\"7 → 5\">\n",
       "<path fill=\"none\" stroke=\"#4a4a4a\" d=\"M187.79,-143.7C187.79,-135.98 187.79,-126.71 187.79,-118.11\"/>\n",
       "<polygon fill=\"#4a4a4a\" stroke=\"#4a4a4a\" points=\"191.29,-118.1 187.79,-108.1 184.29,-118.1 191.29,-118.1\"/>\n",
       "</a>\n",
       "</g>\n",
       "</g>\n",
       "<!-- Temperature -->\n",
       "<g id=\"node4\" class=\"node\">\n",
       "<title>Temperature</title>\n",
       "<g id=\"a_node4\"><a xlink:title=\"(1) Temperature\">\n",
       "<ellipse fill=\"#404040\" stroke=\"#4a4a4a\" cx=\"59.79\" cy=\"-18\" rx=\"55.79\" ry=\"18\"/>\n",
       "<text text-anchor=\"middle\" x=\"59.79\" y=\"-14.3\" font-family=\"Times,serif\" font-size=\"14.00\" fill=\"white\">Temperature</text>\n",
       "</a>\n",
       "</g>\n",
       "</g>\n",
       "<!-- Humidity&#45;&gt;Temperature -->\n",
       "<g id=\"edge3\" class=\"edge\">\n",
       "<title>Humidity-&gt;Temperature</title>\n",
       "<g id=\"a_edge3\"><a xlink:title=\"2 → 1\">\n",
       "<path fill=\"none\" stroke=\"#4a4a4a\" d=\"M59.79,-71.7C59.79,-63.98 59.79,-54.71 59.79,-46.11\"/>\n",
       "<polygon fill=\"#4a4a4a\" stroke=\"#4a4a4a\" points=\"63.29,-46.1 59.79,-36.1 56.29,-46.1 63.29,-46.1\"/>\n",
       "</a>\n",
       "</g>\n",
       "</g>\n",
       "<!-- TimeCategory -->\n",
       "<g id=\"node5\" class=\"node\">\n",
       "<title>TimeCategory</title>\n",
       "<g id=\"a_node5\"><a xlink:title=\"(8) TimeCategory\">\n",
       "<ellipse fill=\"#404040\" stroke=\"#4a4a4a\" cx=\"317.79\" cy=\"-162\" rx=\"61.99\" ry=\"18\"/>\n",
       "<text text-anchor=\"middle\" x=\"317.79\" y=\"-158.3\" font-family=\"Times,serif\" font-size=\"14.00\" fill=\"white\">TimeCategory</text>\n",
       "</a>\n",
       "</g>\n",
       "</g>\n",
       "<!-- Hour -->\n",
       "<g id=\"node8\" class=\"node\">\n",
       "<title>Hour</title>\n",
       "<g id=\"a_node8\"><a xlink:title=\"(4) Hour\">\n",
       "<ellipse fill=\"#404040\" stroke=\"#4a4a4a\" cx=\"317.79\" cy=\"-90\" rx=\"28.7\" ry=\"18\"/>\n",
       "<text text-anchor=\"middle\" x=\"317.79\" y=\"-86.3\" font-family=\"Times,serif\" font-size=\"14.00\" fill=\"white\">Hour</text>\n",
       "</a>\n",
       "</g>\n",
       "</g>\n",
       "<!-- TimeCategory&#45;&gt;Hour -->\n",
       "<g id=\"edge2\" class=\"edge\">\n",
       "<title>TimeCategory-&gt;Hour</title>\n",
       "<g id=\"a_edge2\"><a xlink:title=\"8 → 4\">\n",
       "<path fill=\"none\" stroke=\"#4a4a4a\" d=\"M317.79,-143.7C317.79,-135.98 317.79,-126.71 317.79,-118.11\"/>\n",
       "<polygon fill=\"#4a4a4a\" stroke=\"#4a4a4a\" points=\"321.29,-118.1 317.79,-108.1 314.29,-118.1 321.29,-118.1\"/>\n",
       "</a>\n",
       "</g>\n",
       "</g>\n",
       "<!-- Month -->\n",
       "<g id=\"node6\" class=\"node\">\n",
       "<title>Month</title>\n",
       "<g id=\"a_node6\"><a xlink:title=\"(6) Month\">\n",
       "<ellipse fill=\"#404040\" stroke=\"#4a4a4a\" cx=\"431.79\" cy=\"-162\" rx=\"34.39\" ry=\"18\"/>\n",
       "<text text-anchor=\"middle\" x=\"431.79\" y=\"-158.3\" font-family=\"Times,serif\" font-size=\"14.00\" fill=\"white\">Month</text>\n",
       "</a>\n",
       "</g>\n",
       "</g>\n",
       "<!-- Location -->\n",
       "<g id=\"node9\" class=\"node\">\n",
       "<title>Location</title>\n",
       "<g id=\"a_node9\"><a xlink:title=\"(0) Location\">\n",
       "<ellipse fill=\"#404040\" stroke=\"#4a4a4a\" cx=\"526.79\" cy=\"-162\" rx=\"42.49\" ry=\"18\"/>\n",
       "<text text-anchor=\"middle\" x=\"526.79\" y=\"-158.3\" font-family=\"Times,serif\" font-size=\"14.00\" fill=\"white\">Location</text>\n",
       "</a>\n",
       "</g>\n",
       "</g>\n",
       "</g>\n",
       "</svg>"
      ],
      "text/plain": [
       "<IPython.core.display.SVG object>"
      ]
     },
     "metadata": {},
     "output_type": "display_data"
    }
   ],
   "source": [
    "# Display the learned Bayesian Network\n",
    "gnb.showBN(bn)"
   ]
  },
  {
   "cell_type": "code",
   "execution_count": null,
   "id": "ccf56dbd-3a8f-4402-ac5a-23bad54778b0",
   "metadata": {},
   "outputs": [],
   "source": []
  },
  {
   "cell_type": "code",
   "execution_count": 40,
   "id": "4820394c-dea0-4694-9cfb-66e8709cbe3d",
   "metadata": {},
   "outputs": [
    {
     "name": "stdout",
     "output_type": "stream",
     "text": [
      "{'Air Freshness', 'IsWeekend', 'Humidity', 'Temperature', 'TimeCategory', 'Month', 'DayOfWeek', 'Hour', 'Location'}\n"
     ]
    }
   ],
   "source": [
    "print(bn.names())"
   ]
  },
  {
   "cell_type": "code",
   "execution_count": 41,
   "id": "98535977-11b0-4da2-9e85-9fd644889c17",
   "metadata": {},
   "outputs": [
    {
     "name": "stdout",
     "output_type": "stream",
     "text": [
      "\n",
      "      ||  Temperature                          |\n",
      "Humidi||0        |1        |2        |3        |\n",
      "------||---------|---------|---------|---------|\n",
      "0     || 0.8666  | 0.1234  | 0.0050  | 0.0050  |\n",
      "1     || 0.0011  | 0.9604  | 0.0373  | 0.0011  |\n",
      "2     || 0.0011  | 0.2880  | 0.3217  | 0.3892  |\n",
      "3     || 0.0004  | 0.0004  | 0.5144  | 0.4849  |\n",
      "\n"
     ]
    }
   ],
   "source": [
    "print(bn.cpt(\"Temperature\"))"
   ]
  },
  {
   "cell_type": "code",
   "execution_count": 42,
   "id": "9657219d-7626-42a5-8291-843678fd4dfd",
   "metadata": {},
   "outputs": [
    {
     "name": "stdout",
     "output_type": "stream",
     "text": [
      "Unique values of Humidity: [0 3 2 1]\n"
     ]
    }
   ],
   "source": [
    "humidity_values = data_df[\"Humidity\"].unique()\n",
    "print(\"Unique values of Humidity:\", humidity_values)\n"
   ]
  },
  {
   "cell_type": "code",
   "execution_count": 43,
   "id": "274e95ad-40c3-49b7-a68d-02f454e6bb4c",
   "metadata": {},
   "outputs": [
    {
     "name": "stdout",
     "output_type": "stream",
     "text": [
      "\n",
      "  Temperature                          |\n",
      "0        |1        |2        |3        |\n",
      "---------|---------|---------|---------|\n",
      " 0.0011  | 0.2880  | 0.3217  | 0.3892  |\n",
      "\n"
     ]
    }
   ],
   "source": [
    "ie = gum.LazyPropagation(bn)  # Inference Engine\n",
    "\n",
    "# Example: What is the probability distribution of \"Temperature\" given \"Humidity\" is high?\n",
    "ie.setEvidence({'Humidity': 2})  # Set evidence\n",
    "ie.makeInference()\n",
    "print(ie.posterior(\"Temperature\"))  # Get probability distribution\n"
   ]
  },
  {
   "cell_type": "code",
   "execution_count": 45,
   "id": "c2d90efd-11bb-4341-8210-94fa0558c5d9",
   "metadata": {},
   "outputs": [
    {
     "name": "stdout",
     "output_type": "stream",
     "text": [
      "\n",
      "  Temperature                          |\n",
      "0        |1        |2        |3        |\n",
      "---------|---------|---------|---------|\n",
      " 0.8666  | 0.1234  | 0.0050  | 0.0050  |\n",
      "\n"
     ]
    }
   ],
   "source": [
    "ie.setEvidence({'Air Freshness': 1, 'Humidity': 0})\n",
    "ie.makeInference()\n",
    "print(ie.posterior(\"Temperature\"))\n"
   ]
  },
  {
   "cell_type": "code",
   "execution_count": 46,
   "id": "a99f9a1b-a962-46ca-87ee-fc30a2e69edc",
   "metadata": {},
   "outputs": [
    {
     "data": {
      "image/svg+xml": [
       "<svg xmlns=\"http://www.w3.org/2000/svg\" xmlns:xlink=\"http://www.w3.org/1999/xlink\" width=\"214pt\" height=\"332pt\" viewBox=\"0.00 0.00 214.14 332.00\">\n",
       "<g id=\"graph0\" class=\"graph\" transform=\"scale(1 1) rotate(0) translate(4 328)\">\n",
       "<title>G</title>\n",
       "<!-- AirFreshness -->\n",
       "<g id=\"node1\" class=\"node\">\n",
       "<title>AirFreshness</title>\n",
       "<g id=\"a_node1\"><a xlink:title=\"(2) AirFreshness\">\n",
       "<ellipse fill=\"#404040\" stroke=\"#4a4a4a\" cx=\"97.9\" cy=\"-234\" rx=\"57.39\" ry=\"18\"/>\n",
       "<text text-anchor=\"middle\" x=\"97.9\" y=\"-230.3\" font-family=\"Times,serif\" font-size=\"14.00\" fill=\"white\">AirFreshness</text>\n",
       "</a>\n",
       "</g>\n",
       "</g>\n",
       "<!-- Humidity -->\n",
       "<g id=\"node2\" class=\"node\">\n",
       "<title>Humidity</title>\n",
       "<g id=\"a_node2\"><a xlink:title=\"(3) Humidity\">\n",
       "<ellipse fill=\"#404040\" stroke=\"#4a4a4a\" cx=\"97.9\" cy=\"-162\" rx=\"44.69\" ry=\"18\"/>\n",
       "<text text-anchor=\"middle\" x=\"97.9\" y=\"-158.3\" font-family=\"Times,serif\" font-size=\"14.00\" fill=\"white\">Humidity</text>\n",
       "</a>\n",
       "</g>\n",
       "</g>\n",
       "<!-- AirFreshness&#45;&gt;Humidity -->\n",
       "<g id=\"edge4\" class=\"edge\">\n",
       "<title>AirFreshness-&gt;Humidity</title>\n",
       "<g id=\"a_edge4\"><a xlink:title=\"2 → 3\">\n",
       "<path fill=\"none\" stroke=\"#4a4a4a\" d=\"M97.9,-215.7C97.9,-207.98 97.9,-198.71 97.9,-190.11\"/>\n",
       "<polygon fill=\"#4a4a4a\" stroke=\"#4a4a4a\" points=\"101.4,-190.1 97.9,-180.1 94.4,-190.1 101.4,-190.1\"/>\n",
       "</a>\n",
       "</g>\n",
       "</g>\n",
       "<!-- Temperature -->\n",
       "<g id=\"node3\" class=\"node\">\n",
       "<title>Temperature</title>\n",
       "<g id=\"a_node3\"><a xlink:title=\"(4) Temperature\">\n",
       "<ellipse fill=\"#404040\" stroke=\"#4a4a4a\" cx=\"55.9\" cy=\"-90\" rx=\"55.79\" ry=\"18\"/>\n",
       "<text text-anchor=\"middle\" x=\"55.9\" y=\"-86.3\" font-family=\"Times,serif\" font-size=\"14.00\" fill=\"white\">Temperature</text>\n",
       "</a>\n",
       "</g>\n",
       "</g>\n",
       "<!-- Humidity&#45;&gt;Temperature -->\n",
       "<g id=\"edge2\" class=\"edge\">\n",
       "<title>Humidity-&gt;Temperature</title>\n",
       "<g id=\"a_edge2\"><a xlink:title=\"3 → 4\">\n",
       "<path fill=\"none\" stroke=\"#4a4a4a\" d=\"M87.94,-144.41C82.99,-136.16 76.9,-126.01 71.36,-116.78\"/>\n",
       "<polygon fill=\"#4a4a4a\" stroke=\"#4a4a4a\" points=\"74.22,-114.73 66.07,-107.96 68.21,-118.33 74.22,-114.73\"/>\n",
       "</a>\n",
       "</g>\n",
       "</g>\n",
       "<!-- Asthma -->\n",
       "<g id=\"node4\" class=\"node\">\n",
       "<title>Asthma</title>\n",
       "<g id=\"a_node4\"><a xlink:title=\"(5) Asthma\">\n",
       "<ellipse fill=\"#404040\" stroke=\"#4a4a4a\" cx=\"97.9\" cy=\"-18\" rx=\"38.19\" ry=\"18\"/>\n",
       "<text text-anchor=\"middle\" x=\"97.9\" y=\"-14.3\" font-family=\"Times,serif\" font-size=\"14.00\" fill=\"white\">Asthma</text>\n",
       "</a>\n",
       "</g>\n",
       "</g>\n",
       "<!-- Humidity&#45;&gt;Asthma -->\n",
       "<g id=\"edge8\" class=\"edge\">\n",
       "<title>Humidity-&gt;Asthma</title>\n",
       "<g id=\"a_edge8\"><a xlink:title=\"3 → 5\">\n",
       "<path fill=\"none\" stroke=\"#4a4a4a\" d=\"M107.44,-143.93C112.53,-133.82 118.28,-120.57 120.9,-108 124.15,-92.33 124.15,-87.67 120.9,-72 118.99,-62.82 115.41,-53.29 111.63,-44.87\"/>\n",
       "<polygon fill=\"#4a4a4a\" stroke=\"#4a4a4a\" points=\"114.67,-43.11 107.2,-35.6 108.36,-46.13 114.67,-43.11\"/>\n",
       "</a>\n",
       "</g>\n",
       "</g>\n",
       "<!-- Temperature&#45;&gt;Asthma -->\n",
       "<g id=\"edge5\" class=\"edge\">\n",
       "<title>Temperature-&gt;Asthma</title>\n",
       "<g id=\"a_edge5\"><a xlink:title=\"4 → 5\">\n",
       "<path fill=\"none\" stroke=\"#4a4a4a\" d=\"M66.06,-72.05C71.01,-63.8 77.07,-53.7 82.57,-44.54\"/>\n",
       "<polygon fill=\"#4a4a4a\" stroke=\"#4a4a4a\" points=\"85.68,-46.16 87.82,-35.79 79.68,-42.56 85.68,-46.16\"/>\n",
       "</a>\n",
       "</g>\n",
       "</g>\n",
       "<!-- Month -->\n",
       "<g id=\"node5\" class=\"node\">\n",
       "<title>Month</title>\n",
       "<g id=\"a_node5\"><a xlink:title=\"(1) Month\">\n",
       "<ellipse fill=\"#404040\" stroke=\"#4a4a4a\" cx=\"49.9\" cy=\"-306\" rx=\"34.39\" ry=\"18\"/>\n",
       "<text text-anchor=\"middle\" x=\"49.9\" y=\"-302.3\" font-family=\"Times,serif\" font-size=\"14.00\" fill=\"white\">Month</text>\n",
       "</a>\n",
       "</g>\n",
       "</g>\n",
       "<!-- Month&#45;&gt;AirFreshness -->\n",
       "<g id=\"edge1\" class=\"edge\">\n",
       "<title>Month-&gt;AirFreshness</title>\n",
       "<g id=\"a_edge1\"><a xlink:title=\"1 → 2\">\n",
       "<path fill=\"none\" stroke=\"#4a4a4a\" d=\"M61.03,-288.76C66.8,-280.35 73.97,-269.89 80.45,-260.44\"/>\n",
       "<polygon fill=\"#4a4a4a\" stroke=\"#4a4a4a\" points=\"83.38,-262.35 86.15,-252.12 77.61,-258.39 83.38,-262.35\"/>\n",
       "</a>\n",
       "</g>\n",
       "</g>\n",
       "<!-- Month&#45;&gt;Humidity -->\n",
       "<g id=\"edge7\" class=\"edge\">\n",
       "<title>Month-&gt;Humidity</title>\n",
       "<g id=\"a_edge7\"><a xlink:title=\"1 → 3\">\n",
       "<path fill=\"none\" stroke=\"#4a4a4a\" d=\"M40.59,-288.48C31.51,-270.01 20.58,-239.6 31.9,-216 38.55,-202.11 50.82,-190.71 62.99,-182.09\"/>\n",
       "<polygon fill=\"#4a4a4a\" stroke=\"#4a4a4a\" points=\"64.93,-185.01 71.33,-176.57 61.06,-179.17 64.93,-185.01\"/>\n",
       "</a>\n",
       "</g>\n",
       "</g>\n",
       "<!-- Location -->\n",
       "<g id=\"node6\" class=\"node\">\n",
       "<title>Location</title>\n",
       "<g id=\"a_node6\"><a xlink:title=\"(0) Location\">\n",
       "<ellipse fill=\"#404040\" stroke=\"#4a4a4a\" cx=\"163.9\" cy=\"-306\" rx=\"42.49\" ry=\"18\"/>\n",
       "<text text-anchor=\"middle\" x=\"163.9\" y=\"-302.3\" font-family=\"Times,serif\" font-size=\"14.00\" fill=\"white\">Location</text>\n",
       "</a>\n",
       "</g>\n",
       "</g>\n",
       "<!-- Location&#45;&gt;AirFreshness -->\n",
       "<g id=\"edge6\" class=\"edge\">\n",
       "<title>Location-&gt;AirFreshness</title>\n",
       "<g id=\"a_edge6\"><a xlink:title=\"0 → 2\">\n",
       "<path fill=\"none\" stroke=\"#4a4a4a\" d=\"M148.92,-289.12C140.55,-280.24 129.96,-269.01 120.6,-259.08\"/>\n",
       "<polygon fill=\"#4a4a4a\" stroke=\"#4a4a4a\" points=\"123.14,-256.67 113.73,-251.8 118.05,-261.47 123.14,-256.67\"/>\n",
       "</a>\n",
       "</g>\n",
       "</g>\n",
       "<!-- Location&#45;&gt;Humidity -->\n",
       "<g id=\"edge3\" class=\"edge\">\n",
       "<title>Location-&gt;Humidity</title>\n",
       "<g id=\"a_edge3\"><a xlink:title=\"0 → 3\">\n",
       "<path fill=\"none\" stroke=\"#4a4a4a\" d=\"M168.07,-287.97C171.73,-269.32 174.92,-238.99 163.9,-216 157.24,-202.11 144.97,-190.71 132.8,-182.09\"/>\n",
       "<polygon fill=\"#4a4a4a\" stroke=\"#4a4a4a\" points=\"134.73,-179.17 124.46,-176.57 130.86,-185.01 134.73,-179.17\"/>\n",
       "</a>\n",
       "</g>\n",
       "</g>\n",
       "</g>\n",
       "</svg>"
      ],
      "text/plain": [
       "<IPython.core.display.SVG object>"
      ]
     },
     "metadata": {},
     "output_type": "display_data"
    }
   ],
   "source": [
    "import pyAgrum as gum\n",
    "import pyAgrum.lib.notebook as gnb\n",
    "\n",
    "# Create a Bayesian Network\n",
    "bn = gum.BayesNet(\"AsthmaPrediction\")\n",
    "\n",
    "# Add Nodes\n",
    "bn.add(gum.LabelizedVariable(\"Location\", \"Location of person\", 3))\n",
    "bn.add(gum.LabelizedVariable(\"Month\", \"Month of the year\", 12))\n",
    "bn.add(gum.LabelizedVariable(\"AirFreshness\", \"Air Quality Index\", 3))\n",
    "bn.add(gum.LabelizedVariable(\"Humidity\", \"Humidity Levels\", 5))\n",
    "bn.add(gum.LabelizedVariable(\"Temperature\", \"Temperature Levels\", 5))\n",
    "bn.add(gum.LabelizedVariable(\"Asthma\", \"Asthma presence\", 2))  # 0: No, 1: Yes\n",
    "\n",
    "# Add Edges (Dependencies)\n",
    "bn.addArc(\"Location\", \"AirFreshness\")\n",
    "bn.addArc(\"Month\", \"AirFreshness\")\n",
    "bn.addArc(\"Location\", \"Humidity\")\n",
    "bn.addArc(\"AirFreshness\", \"Humidity\")\n",
    "bn.addArc(\"Month\", \"Humidity\")\n",
    "bn.addArc(\"Humidity\", \"Temperature\")\n",
    "bn.addArc(\"Temperature\", \"Asthma\")\n",
    "bn.addArc(\"Humidity\", \"Asthma\")\n",
    "\n",
    "# Display the Graph\n",
    "gnb.showBN(bn)\n"
   ]
  },
  {
   "cell_type": "code",
   "execution_count": null,
   "id": "9461928a-966c-4be3-8d5b-f354bd1df754",
   "metadata": {},
   "outputs": [],
   "source": [
    "bn.add(gum.LabelizedVariable(\"Asthma\", \"Presence of Asthma\", 2))  # Binary variable (Yes/No)"
   ]
  },
  {
   "cell_type": "code",
   "execution_count": null,
   "id": "9f88dbaf-3de6-4b11-9b36-3e1570b3d552",
   "metadata": {},
   "outputs": [],
   "source": [
    "bn.addArc(\"Humidity\", \"Asthma\")\n",
    "bn.addArc(\"Temperature\", \"Asthma\")"
   ]
  },
  {
   "cell_type": "code",
   "execution_count": null,
   "id": "3f5a9344-26cd-46ba-91e3-23df05fe8343",
   "metadata": {},
   "outputs": [],
   "source": [
    "import pyAgrum as gum\n",
    "import pyAgrum.lib.notebook as gnb\n",
    "\n",
    "# Display Conditional Probability Table (CPT) for Asthma\n",
    "print(bn.cpt(\"Asthma\"))  # Prints the table in text format\n",
    "\n",
    "# Alternatively, visualize it using pyAgrum\n",
    "gnb.showPotential(bn.cpt(\"Asthma\"))\n"
   ]
  },
  {
   "cell_type": "code",
   "execution_count": null,
   "id": "bf62835a-6fb0-458f-a019-90cc1821579a",
   "metadata": {},
   "outputs": [],
   "source": []
  }
 ],
 "metadata": {
  "kernelspec": {
   "display_name": "Python 3 (ipykernel)",
   "language": "python",
   "name": "python3"
  },
  "language_info": {
   "codemirror_mode": {
    "name": "ipython",
    "version": 3
   },
   "file_extension": ".py",
   "mimetype": "text/x-python",
   "name": "python",
   "nbconvert_exporter": "python",
   "pygments_lexer": "ipython3",
   "version": "3.11.8"
  }
 },
 "nbformat": 4,
 "nbformat_minor": 5
}
